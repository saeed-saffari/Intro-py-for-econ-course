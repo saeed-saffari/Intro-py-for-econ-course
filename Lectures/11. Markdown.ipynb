{
 "cells": [
  {
   "cell_type": "markdown",
   "metadata": {},
   "source": [
    "# <center> Markdown <center>"
   ]
  },
  {
   "cell_type": "markdown",
   "metadata": {},
   "source": [
    "# Content\n",
    "\n",
    "* [Header](#Header)\n",
    "* [Link](#Link)\n",
    "* [line](#line)\n",
    "* [Blocks](#Blocks)\n",
    "* [Bold](#Bold)\n",
    "* [Italic](#Italic)\n",
    "* [Under line](#Under_line)\n",
    "* [List](#List)\n",
    "    * [Unorder](#Unorder)\n",
    "    * [Order](#Order)\n",
    "    * [To do list](#To_do_list)\n",
    "* [Code](#Code)\n",
    "* [Table](#Table)\n",
    "* [Math](#Math)"
   ]
  },
  {
   "cell_type": "markdown",
   "metadata": {},
   "source": [
    "* ### USE"
   ]
  },
  {
   "cell_type": "markdown",
   "metadata": {},
   "source": [
    "# Header <a id = 'Header' ><a>"
   ]
  },
  {
   "cell_type": "markdown",
   "metadata": {},
   "source": [
    "python for economics"
   ]
  },
  {
   "cell_type": "markdown",
   "metadata": {},
   "source": [
    "# Header 1\n",
    "\n",
    "## Header 2\n",
    "\n",
    "### <center> Header 3 <center>\n",
    "\n",
    "header 4"
   ]
  },
  {
   "cell_type": "markdown",
   "metadata": {},
   "source": [
    "# Link <a id = 'Link' ><a>"
   ]
  },
  {
   "cell_type": "markdown",
   "metadata": {
    "slideshow": {
     "slide_type": "fragment"
    }
   },
   "source": [
    "[Go to google!](https://www.google.com/)"
   ]
  },
  {
   "cell_type": "markdown",
   "metadata": {},
   "source": [
    "<a href = \"https://www.yahoo.com/\" > Go to yahoo. </a>"
   ]
  },
  {
   "cell_type": "markdown",
   "metadata": {},
   "source": [
    "# line <a id = 'line' ><a>"
   ]
  },
  {
   "cell_type": "markdown",
   "metadata": {},
   "source": [
    "with 2 space and 1 enter  \n",
    "line 1  \n",
    "line 2  \n",
    "line 3"
   ]
  },
  {
   "cell_type": "markdown",
   "metadata": {},
   "source": [
    "with \\<br> <br>\n",
    "line 1 <br>\n",
    "line 2"
   ]
  },
  {
   "cell_type": "markdown",
   "metadata": {},
   "source": [
    "with 2 enter:\n",
    "\n",
    "\n",
    "line 1\n",
    "\n",
    "line 2"
   ]
  },
  {
   "cell_type": "markdown",
   "metadata": {},
   "source": [
    "# Blocks <a id = 'Blocks' ><a>"
   ]
  },
  {
   "cell_type": "markdown",
   "metadata": {},
   "source": [
    "> we use  \n",
    "markdown  \n",
    "in jupyter"
   ]
  },
  {
   "cell_type": "markdown",
   "metadata": {},
   "source": []
  },
  {
   "cell_type": "markdown",
   "metadata": {},
   "source": [
    "# Bold <a id = 'Bold' ><a>"
   ]
  },
  {
   "cell_type": "markdown",
   "metadata": {},
   "source": [
    "Bold text  \n",
    "**Bold text**  \n",
    "__Bold text__  \n",
    "<b> Bold text <br>"
   ]
  },
  {
   "cell_type": "markdown",
   "metadata": {},
   "source": []
  },
  {
   "cell_type": "markdown",
   "metadata": {},
   "source": [
    "# Italic <a id = 'Italic' ><a>"
   ]
  },
  {
   "cell_type": "markdown",
   "metadata": {
    "slideshow": {
     "slide_type": "slide"
    }
   },
   "source": [
    "Italic text  \n",
    "*Italic text*  \n",
    "_Italic text_  \n",
    "<i> Italic text <i>"
   ]
  },
  {
   "cell_type": "markdown",
   "metadata": {},
   "source": []
  },
  {
   "cell_type": "markdown",
   "metadata": {},
   "source": [
    "# Under line <a id = 'Under_ine' ><a>"
   ]
  },
  {
   "cell_type": "markdown",
   "metadata": {},
   "source": [
    "<u> Under text <u>"
   ]
  },
  {
   "cell_type": "markdown",
   "metadata": {},
   "source": []
  },
  {
   "cell_type": "markdown",
   "metadata": {},
   "source": [
    "# Bold and Italic"
   ]
  },
  {
   "cell_type": "markdown",
   "metadata": {},
   "source": [
    "Bold and Italic text  \n",
    "***Bold and Italic text***  \n",
    "__*Bold and Italic text*__  \n",
    "**_Bold and Italic text_**  \n",
    "<b><i> Bold and Italic text <i><b>  \n",
    "<b><i><u> Bold and Italic and underline text <u><i><b>"
   ]
  },
  {
   "cell_type": "markdown",
   "metadata": {},
   "source": []
  },
  {
   "cell_type": "markdown",
   "metadata": {},
   "source": [
    "# List <a id = 'List' ><a>"
   ]
  },
  {
   "cell_type": "markdown",
   "metadata": {},
   "source": [
    "## Unorder <a id = 'Unorder' ><a>"
   ]
  },
  {
   "cell_type": "markdown",
   "metadata": {},
   "source": [
    "* item 1\n",
    "* item 2\n",
    "+ item 3\n",
    "- item 4\n",
    "    * item 5\n",
    "        - item 6"
   ]
  },
  {
   "cell_type": "markdown",
   "metadata": {},
   "source": []
  },
  {
   "cell_type": "markdown",
   "metadata": {},
   "source": [
    "## Order <a id = 'Order' ><a>"
   ]
  },
  {
   "cell_type": "markdown",
   "metadata": {},
   "source": [
    "1. item 1\n",
    "2. item 2\n",
    "3. item 3\n",
    "1. item 5\n",
    "    1. item 6\n",
    "    3. item 7\n",
    "        3. item 8\n",
    "        4. item 9\n",
    "6. item 10"
   ]
  },
  {
   "cell_type": "markdown",
   "metadata": {},
   "source": []
  },
  {
   "cell_type": "markdown",
   "metadata": {},
   "source": [
    "## To do list <a id = 'To_do_list' ><a>"
   ]
  },
  {
   "cell_type": "markdown",
   "metadata": {},
   "source": [
    "- [] to do 1\n",
    "- [] to do 2\n",
    "- [x] to do 2"
   ]
  },
  {
   "cell_type": "markdown",
   "metadata": {},
   "source": []
  },
  {
   "cell_type": "markdown",
   "metadata": {},
   "source": [
    "# Code <a id = 'Code' ><a>"
   ]
  },
  {
   "cell_type": "markdown",
   "metadata": {},
   "source": [
    "my code is: \n",
    "<code>\n",
    "    def option(x):\n",
    "        z = x^2\n",
    "        print(z)\n",
    "    <code>"
   ]
  },
  {
   "cell_type": "markdown",
   "metadata": {},
   "source": [
    "# Table <a id = 'Table' ><a>"
   ]
  },
  {
   "cell_type": "markdown",
   "metadata": {},
   "source": [
    "| Column 1 | Column 2 | Column 3 | Column 4 |\n",
    "| ---      |      --- | ---      | --- |\n",
    "| value 21 | value 22 | value 23 | NAN |\n",
    "| value 31 | Value 32 | value 33 | value 34 |"
   ]
  },
  {
   "cell_type": "markdown",
   "metadata": {},
   "source": []
  },
  {
   "cell_type": "markdown",
   "metadata": {},
   "source": [
    "# Math <a id = 'Math' ><a>"
   ]
  },
  {
   "cell_type": "markdown",
   "metadata": {},
   "source": [
    "## Algebraic expressions"
   ]
  },
  {
   "cell_type": "markdown",
   "metadata": {},
   "source": [
    "| code           |show                    |\n",
    "| ---            |---                     |\n",
    "| a + b          |$$a + b $$              |\n",
    "| a - b          |$$a - b $$              |\n",
    "| a \\cdot b      |$$a \\cdot b$$           |\n",
    "| a \\times b     |$$a \\times b$$          |\n",
    "| \\frac{a}{b}    |$$\\frac{a}{b}$$         |\n",
    "|a^{n}           |$$a^{n}$$               |\n",
    "|a^{n^{k^{13}}}  |$$a^{n^{k^{13}}} $$     |\n",
    "|a_{n}           |$$a_{n} $$              |\n",
    "|a_{n_{k_{13}}}  |$$a_{n_{k_{13}}} $$     |\n",
    "|\\sqrt{a}        |$$\\sqrt{a}  $$          |\n",
    "|\\sqrt[n]{a}     |$$\\sqrt[n]{a} $$        |\n",
    "|\\pm a           |$$\\pm a $$              |\n",
    "|\\binom{a}{b}    |$$\\binom{a}{b} $$       |\n",
    "|\\dotsc          |$$1, 2, 3, \\dotsc, 9 $$ |"
   ]
  },
  {
   "cell_type": "markdown",
   "metadata": {},
   "source": [
    "a + b  \n",
    "$$ a + b $$\n",
    "\n",
    "$$ a \\times b = c $$\n",
    "\n",
    "$$ \\frac{a \\times b}{c} $$\n",
    "\n",
    "$$ z^{\\frac{a \\times b}{c}} $$\n",
    "\n",
    "$$ \\sqrt[5]{b^2 - 4 a c} $$"
   ]
  },
  {
   "cell_type": "markdown",
   "metadata": {},
   "source": [
    "## Algebraic relation"
   ]
  },
  {
   "cell_type": "markdown",
   "metadata": {},
   "source": [
    "| code      |show           |\n",
    "| ---       |---            |\n",
    "|a = b      |$$a = b$$      |\n",
    "|a < b      |$$a < b$$      |\n",
    "| a \\le b   |$$a \\le b$$    |\n",
    "| a > b     |$$a > b$$      |\n",
    "| a \\ge b   |$$ a \\ge b$$   |\n",
    "|a \\equiv b |$$a \\equiv b$$ |\n",
    "|a \\sim b   |$$a \\sim b$$   |\n",
    "|a \\mid b   |$$a \\mid b $$  |\n",
    "|f \\colon A \\to B   |$$f \\colon A \\to B $$  |"
   ]
  },
  {
   "cell_type": "markdown",
   "metadata": {},
   "source": [
    "$$ a \\le b $$\n",
    "\n",
    "$$ a \\sim b $$\n",
    "\n",
    "$$ A \\to B $$"
   ]
  },
  {
   "cell_type": "markdown",
   "metadata": {},
   "source": [
    "### Not"
   ]
  },
  {
   "cell_type": "markdown",
   "metadata": {},
   "source": [
    "| code          |show               |\n",
    "| ---           |---                |\n",
    "|a \\ne b        |$$a \\ne b$$        |\n",
    "|a \\not < b     |$$a \\not < b$$     |\n",
    "| a \\not\\le b   |$$a \\not\\le b$$    |\n",
    "| a \\not > b    |$$a \\not > b$$     |\n",
    "| a \\not \\ge b  |$$ a \\not\\ge b$$   |\n",
    "|a \\not\\equiv b |$$a \\not\\equiv b$$ |\n",
    "|a \\not\\sim b   |$$a \\not\\sim b$$   |\n",
    "|a \\not\\mid b   |$$a \\not\\mid b $$  |\n"
   ]
  },
  {
   "cell_type": "markdown",
   "metadata": {},
   "source": [
    "$$ a \\ne b $$"
   ]
  },
  {
   "cell_type": "markdown",
   "metadata": {},
   "source": [
    "## Greek alphabet"
   ]
  },
  {
   "cell_type": "markdown",
   "metadata": {},
   "source": [
    "| code |show   |\n",
    "| ---  |---    |\n",
    "|\\alpha |$$\\alpha $$ |\n",
    "|\\beta  |$$\\beta $$ |\n",
    "|\\Gamma, \\gamma  |$$\\Gamma, \\gamma $$ |\n",
    "|\\Delta, \\delta  |$$\\Delta, \\delta $$ |\n",
    "|\\epsilon  |$$\\epsilon $$ |\n",
    "|\\eta  |$$\\eta $$ |\n",
    "|\\Theta, \\theta  |$$\\Theta , \\theta $$ |\n",
    "|\\Lambda, \\lambda  |$$\\Lambda, \\lambda $$ |\n",
    "|\\mu  |$$\\mu $$ |\n",
    "|\\Pi, \\pi  |$$\\Pi, \\pi $$ |\n",
    "|\\rho  |$$\\rho $$ |\n",
    "|\\Sigma \\sigma  |$$\\Sigma, \\sigma $$ |\n",
    "|\\tau  |$$\\tau $$ |\n",
    "|\\Phi, \\phi  |$$\\Phi, \\phi $$ |\n",
    "|\\Psi, \\psi  |$$\\Psi, \\psi $$ |\n",
    "|\\Omega  |$$\\Omega $$ |"
   ]
  },
  {
   "cell_type": "markdown",
   "metadata": {},
   "source": [
    "$$ Y = A \\cdot K^{\\alpha} \\cdot L^{\\beta} $$"
   ]
  },
  {
   "cell_type": "markdown",
   "metadata": {},
   "source": [
    "## Large Symbols"
   ]
  },
  {
   "cell_type": "markdown",
   "metadata": {},
   "source": [
    "| code |show   |\n",
    "| ---  |---    |\n",
    "|\\sum | $$\\sum $$ |\n",
    "|\\sum_{n=1}^{\\infty} n^{-s} | $$\\sum_{n=1}^{\\infty} n^{-s} $$ |\n",
    "|\\prod | $$\\prod $$ |\n",
    "|\\prod_{k=1}^{n} k | $$\\prod_{k=1}^{n} k $$ |\n",
    "|\\bigcup | $$\\bigcup $$ |\n",
    "|\\bigcup_{i=1}^{\\infty} A_i | $$\\bigcup_{i=1}^{\\infty} A_i $$ |\n",
    "|\\bigcap | $$\\bigcap $$ |\n",
    "|\\bigcap_{i=1}^{n} A_i | $$\\bigcap_{i=1}^{n} A_i $$ |\n",
    "|\\int_{0}^{a} | $$ \\int_{0}^{a} $$|"
   ]
  },
  {
   "cell_type": "markdown",
   "metadata": {},
   "source": [
    "$$ \\sum x^2 + 2b $$\n",
    "\n",
    "$$ \\sum_{n = 1}^{\\infty} x^2 + 2b $$\n",
    "\n",
    "$$ \\int_{n = 1}^{\\infty} x^2 + 2b $$"
   ]
  },
  {
   "cell_type": "markdown",
   "metadata": {},
   "source": [
    "## Matrix"
   ]
  },
  {
   "cell_type": "markdown",
   "metadata": {},
   "source": [
    "\\begin{matrix}\n",
    "1 & 2 & 3 \\\\\n",
    "4 & 5 & 6 \\\\\n",
    "7 & 8 & 9\n",
    "\\end{matrix}"
   ]
  },
  {
   "cell_type": "markdown",
   "metadata": {},
   "source": [
    "\\begin{pmatrix}\n",
    "1 & 2 & 3 \\\\\n",
    "4 & 5 & 6 \\\\\n",
    "7 & 8 & 9\n",
    "\\end{pmatrix}"
   ]
  },
  {
   "cell_type": "markdown",
   "metadata": {},
   "source": [
    "\\begin{bmatrix}\n",
    "1 & 2 & 3 \\\\\n",
    "4 & 5 & 6 \\\\\n",
    "7 & 8 & 9\n",
    "\\end{bmatrix}"
   ]
  },
  {
   "cell_type": "markdown",
   "metadata": {},
   "source": [
    "## Singel Equation"
   ]
  },
  {
   "cell_type": "markdown",
   "metadata": {},
   "source": [
    "$$ e^{i\\pi} = \\sum_{n=1}^\\infty \\frac{(i\\pi)^n}{n!} $$"
   ]
  },
  {
   "cell_type": "markdown",
   "metadata": {},
   "source": [
    "$$ e^{i \\pi} = \\sum_{n = 1}^{\\infty} \\frac{(i \\pi)^{n}}{n!} $$"
   ]
  },
  {
   "cell_type": "markdown",
   "metadata": {},
   "source": [
    "$$ e^{i \\pi} = \\sum_{n = 1}^{\\infty} \\biggl(\\frac{(i \\pi)^{n}}{n!}\\biggl] $$"
   ]
  },
  {
   "cell_type": "markdown",
   "metadata": {},
   "source": [
    "**note:** \\biggl ( { [ ] } )"
   ]
  },
  {
   "cell_type": "markdown",
   "metadata": {},
   "source": []
  },
  {
   "cell_type": "markdown",
   "metadata": {},
   "source": [
    "## Equations"
   ]
  },
  {
   "cell_type": "markdown",
   "metadata": {},
   "source": [
    "\\begin{equation}\n",
    "e^{i\\pi} = \\sum_{n=1}^\\infty\\frac{(i\\pi)^n}{n!}  \\\\\n",
    "\\lim_{x \\to \\infty} \\int_1^x \\frac{1}{x^2 sin(\\frac{x}{2})} dx\n",
    "\\end{equation}"
   ]
  },
  {
   "cell_type": "markdown",
   "metadata": {},
   "source": [
    "\\begin{equation}\n",
    "  x = a_0 + \\frac{1}{\\displaystyle a_1 \n",
    "          + \\frac{1}{\\displaystyle a_2 \n",
    "          + \\frac{1}{\\displaystyle a_3 + a_4}}}\n",
    "\\end{equation}"
   ]
  },
  {
   "cell_type": "markdown",
   "metadata": {},
   "source": [
    "\\begin{equation}\n",
    "e^{i \\pi} = \\sum_{n = 1}^{\\infty} \\frac{(i \\pi)^{n}}{n!} \\\\\n",
    "\\lim_{x \\to \\infty} \\int_{1}^{x} \\frac{1}{x^{2}\\sin(\\frac{x}{2})} dx \\\\\n",
    "x = a_{0} + \\frac{1}{a_{1} +\n",
    "            \\frac{1}{a_{2} +\n",
    "            \\frac{1}{a_{3} + a_{4}}}}\n",
    "\\end{equation}\n"
   ]
  },
  {
   "cell_type": "markdown",
   "metadata": {},
   "source": [
    "## Align Equation"
   ]
  },
  {
   "cell_type": "markdown",
   "metadata": {},
   "source": [
    "\\begin{align}\n",
    "e^{i\\pi} &= \\sum_{n=1}^\\infty\\frac{(i\\pi)^n}{n!}\\\\\n",
    "&= \\sum_{n=1}^\\infty \\frac{\\pi^{2n}}{(2n)!} + i\\sum_{n=1}^\\infty\\frac{\\pi^{2n+1}}{(2n+1)!}\\\\\n",
    "&= \\cos(\\pi) + i \\sin(\\pi)\\\\\n",
    "&= -1\n",
    "\\end{align}"
   ]
  },
  {
   "cell_type": "markdown",
   "metadata": {},
   "source": [
    "\\begin{align}\n",
    "e^{i \\pi} &= \\sum_{n=1}^{\\infty} \\frac{(i \\pi)^{n}}{n!}\\\\\n",
    "          &= \\sum_{n=1}^{\\infty} \\frac{\\pi^{2n}}{(2n)!} + i \\sum_{n=1}^{\\infty} \\frac{\\pi^{2n+1}}{(2n+1)!} \\\\\n",
    "          &= \\cos(\\pi) + i \\sin(\\pi) \\\\\n",
    "          &= -1\n",
    "\\end{align}"
   ]
  },
  {
   "cell_type": "markdown",
   "metadata": {},
   "source": []
  }
 ],
 "metadata": {
  "kernelspec": {
   "display_name": "Python 3",
   "language": "python",
   "name": "python3"
  },
  "language_info": {
   "codemirror_mode": {
    "name": "ipython",
    "version": 3
   },
   "file_extension": ".py",
   "mimetype": "text/x-python",
   "name": "python",
   "nbconvert_exporter": "python",
   "pygments_lexer": "ipython3",
   "version": "3.8.5"
  }
 },
 "nbformat": 4,
 "nbformat_minor": 2
}
